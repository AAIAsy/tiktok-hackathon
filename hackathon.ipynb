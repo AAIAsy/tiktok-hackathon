{
 "cells": [
  {
   "cell_type": "code",
   "execution_count": 1,
   "id": "76ceeedb",
   "metadata": {},
   "outputs": [
    {
     "name": "stderr",
     "output_type": "stream",
     "text": [
      "WARNING: Using incubator modules: jdk.incubator.vector\n",
      "Using Spark's default log4j profile: org/apache/spark/log4j2-defaults.properties\n",
      "25/08/26 22:13:14 WARN Utils: Your hostname, Asyrafs-MacBook-Air.local, resolves to a loopback address: 127.0.0.1; using 192.168.18.78 instead (on interface en0)\n",
      "25/08/26 22:13:14 WARN Utils: Set SPARK_LOCAL_IP if you need to bind to another address\n",
      "Using Spark's default log4j profile: org/apache/spark/log4j2-defaults.properties\n",
      "Setting default log level to \"WARN\".\n",
      "To adjust logging level use sc.setLogLevel(newLevel). For SparkR, use setLogLevel(newLevel).\n",
      "25/08/26 22:13:15 WARN NativeCodeLoader: Unable to load native-hadoop library for your platform... using builtin-java classes where applicable\n",
      "25/08/26 22:13:15 WARN Utils: Service 'SparkUI' could not bind on port 4040. Attempting port 4041.\n",
      "                                                                                \r"
     ]
    }
   ],
   "source": [
    "from pyspark.sql import SparkSession\n",
    "import numpy as np\n",
    "import os\n",
    "\n",
    "spark = SparkSession.builder \\\n",
    "        .appName(\"Hackathon\") \\\n",
    "        .master(\"local[*]\") \\\n",
    "        .getOrCreate()\n",
    "\n",
    "pathing_review = \"datasets/review_data/\"\n",
    "arr = np.array(os.listdir(pathing_review))\n",
    "reviewData_files = pathing_review + arr\n",
    "\n",
    "pathing_metadata = \"datasets/review_metadata/\"\n",
    "arr = np.array(os.listdir(pathing_metadata))\n",
    "reviewMetadata_files = pathing_metadata + arr\n",
    "\n",
    "df_review = spark.read.json(list(reviewData_files))\n",
    "df_metadata = spark.read.json(list(reviewMetadata_files))"
   ]
  },
  {
   "cell_type": "markdown",
   "id": "1dd20b7d",
   "metadata": {},
   "source": [
    "## DataFrame for Review Data"
   ]
  },
  {
   "cell_type": "code",
   "execution_count": 2,
   "id": "59307db3",
   "metadata": {},
   "outputs": [],
   "source": [
    "df_review = df_review.dropna().drop_duplicates()"
   ]
  },
  {
   "cell_type": "code",
   "execution_count": 3,
   "id": "954ffc14",
   "metadata": {},
   "outputs": [
    {
     "name": "stderr",
     "output_type": "stream",
     "text": [
      "                                                                                \r"
     ]
    },
    {
     "data": {
      "text/plain": [
       "548055"
      ]
     },
     "execution_count": 3,
     "metadata": {},
     "output_type": "execute_result"
    }
   ],
   "source": [
    "df_review.count()"
   ]
  },
  {
   "cell_type": "code",
   "execution_count": 4,
   "id": "1847dd64",
   "metadata": {},
   "outputs": [
    {
     "name": "stdout",
     "output_type": "stream",
     "text": [
      "root\n",
      " |-- gmap_id: string (nullable = true)\n",
      " |-- name: string (nullable = true)\n",
      " |-- pics: array (nullable = true)\n",
      " |    |-- element: struct (containsNull = true)\n",
      " |    |    |-- url: array (nullable = true)\n",
      " |    |    |    |-- element: string (containsNull = true)\n",
      " |-- rating: long (nullable = true)\n",
      " |-- resp: struct (nullable = true)\n",
      " |    |-- text: string (nullable = true)\n",
      " |    |-- time: long (nullable = true)\n",
      " |-- text: string (nullable = true)\n",
      " |-- time: long (nullable = true)\n",
      " |-- user_id: string (nullable = true)\n",
      "\n"
     ]
    }
   ],
   "source": [
    "df_review.printSchema()"
   ]
  },
  {
   "cell_type": "code",
   "execution_count": 5,
   "id": "04052a8f",
   "metadata": {},
   "outputs": [
    {
     "name": "stderr",
     "output_type": "stream",
     "text": [
      "                                                                                \r"
     ]
    }
   ],
   "source": [
    "from pyspark.sql import functions as F\n",
    "from pyspark.ml.feature import RegexTokenizer, StopWordsRemover\n",
    "\n",
    "# =====================================================\n",
    "# STEP 1: Clean the 'resp.text' field (Business Responses)\n",
    "# =====================================================\n",
    "df_review = df_review.withColumn(\"resp_text\", F.col(\"resp.text\"))\n",
    "# remove (Translated by Google)\n",
    "df_review = df_review.withColumn(\"resp_text\", F.regexp_replace(\"resp_text\", r'\\(Translated by Google\\)', ''))\n",
    "# remove (Original) and everything after\n",
    "df_review = df_review.withColumn(\"resp_text\", F.regexp_replace(\"resp_text\", r'\\(Original\\).*', ''))\n",
    "# replace newlines with spaces\n",
    "df_review = df_review.withColumn(\"resp_text\", F.regexp_replace(\"resp_text\", r'[\\r\\n]+', ' '))\n",
    "# trim extra spaces\n",
    "df_review = df_review.withColumn(\"resp_text\", F.trim(\"resp_text\"))\n",
    "\n",
    "# =====================================================\n",
    "# STEP 2: Clean the 'text' column (Customer Reviews)\n",
    "# =====================================================\n",
    "df_review = df_review.withColumn(\"review_text\", F.col(\"text\"))\n",
    "# remove (Translated by Google) if present\n",
    "df_review = df_review.withColumn(\"review_text\", F.regexp_replace(\"review_text\", r'\\(Translated by Google\\)', ''))\n",
    "# remove (Original) and everything after\n",
    "df_review = df_review.withColumn(\"review_text\", F.regexp_replace(\"review_text\", r'\\(Original\\).*', ''))\n",
    "# replace newlines with spaces\n",
    "df_review = df_review.withColumn(\"review_text\", F.regexp_replace(\"review_text\", r'[\\r\\n]+', ' '))\n",
    "# trim extra spaces\n",
    "df_review = df_review.withColumn(\"review_text\", F.trim(\"review_text\"))\n",
    "\n",
    "# =====================================================\n",
    "# STEP 3: Tokenization for Customer Reviews\n",
    "# =====================================================\n",
    "review_tokenizer = RegexTokenizer(inputCol=\"review_text\", outputCol=\"review_tokens\", pattern=\"\\\\W\")\n",
    "df_tokens = review_tokenizer.transform(df_review)\n",
    "\n",
    "# =====================================================\n",
    "# STEP 4: Tokenization for Business Responses\n",
    "# =====================================================\n",
    "resp_tokenizer = RegexTokenizer(inputCol=\"resp_text\", outputCol=\"resp_tokens\", pattern=\"\\\\W\")\n",
    "df_tokens = resp_tokenizer.transform(df_tokens)\n",
    "\n",
    "# =====================================================\n",
    "# STEP 5: Stopword Removal for Customer Reviews\n",
    "# =====================================================\n",
    "review_remover = StopWordsRemover(inputCol=\"review_tokens\", outputCol=\"review_filtered_tokens\")\n",
    "df_clean = review_remover.transform(df_tokens)\n",
    "\n",
    "# =====================================================\n",
    "# STEP 6: Stopword Removal for Business Responses\n",
    "# =====================================================\n",
    "resp_remover = StopWordsRemover(inputCol=\"resp_tokens\", outputCol=\"resp_filtered_tokens\")\n",
    "df_clean = resp_remover.transform(df_clean)\n",
    "\n",
    "# =====================================================\n",
    "# STEP 7: TF-IDF for Customer Reviews\n",
    "# =====================================================\n",
    "from pyspark.ml.feature import HashingTF, IDF\n",
    "\n",
    "# HashingTF for customer reviews\n",
    "review_hashingTF = HashingTF(inputCol=\"review_filtered_tokens\", outputCol=\"review_rawFeatures\")\n",
    "review_featurized = review_hashingTF.transform(df_clean)\n",
    "\n",
    "# IDF for customer reviews\n",
    "review_idf = IDF(inputCol=\"review_rawFeatures\", outputCol=\"review_features\")\n",
    "review_idfModel = review_idf.fit(review_featurized)\n",
    "df_with_review_features = review_idfModel.transform(review_featurized)\n",
    "\n",
    "# =====================================================\n",
    "# STEP 8: TF-IDF for Business Responses\n",
    "# =====================================================\n",
    "# HashingTF for business responses\n",
    "resp_hashingTF = HashingTF(inputCol=\"resp_filtered_tokens\", outputCol=\"resp_rawFeatures\")\n",
    "resp_featurized = resp_hashingTF.transform(df_with_review_features)\n",
    "\n",
    "# IDF for business responses\n",
    "resp_idf = IDF(inputCol=\"resp_rawFeatures\", outputCol=\"resp_features\")\n",
    "resp_idfModel = resp_idf.fit(resp_featurized)\n",
    "df_final = resp_idfModel.transform(resp_featurized)\n"
   ]
  },
  {
   "cell_type": "code",
   "execution_count": 6,
   "id": "86c39323",
   "metadata": {},
   "outputs": [
    {
     "name": "stderr",
     "output_type": "stream",
     "text": [
      "25/08/26 22:20:02 WARN DAGScheduler: Broadcasting large task binary with size 8.1 MiB\n",
      "[Stage 18:>                                                         (0 + 1) / 1]\r"
     ]
    },
    {
     "name": "stdout",
     "output_type": "stream",
     "text": [
      "+--------------------+--------------------+--------------------+--------------------+\n",
      "|         review_text|     review_features|           resp_text|       resp_features|\n",
      "+--------------------+--------------------+--------------------+--------------------+\n",
      "|The boat is exqui...|(262144,[18176,22...|Thank you Laurie!...|(262144,[8538,155...|\n",
      "|My fiance's logbo...|(262144,[7994,124...|thanks Megan ,I d...|(262144,[57938,64...|\n",
      "|Robert Valintine ...|(262144,[19546,19...|We appreciate the...|(262144,[69926,12...|\n",
      "|Wonderful,  very ...|(262144,[6213,141...|        Thank you!!!|(262144,[81783],[...|\n",
      "|WILL NOT SHOP HER...|(262144,[161,1164...|Hi Chris. Sorry t...|(262144,[3910,315...|\n",
      "|We did my daughte...|(262144,[3928,497...|Hello Angela. Tha...|(262144,[21823,43...|\n",
      "|Wonderful custome...|(262144,[15585,43...|Thank you very mu...|(262144,[61899,76...|\n",
      "|Thanks Eddie for ...|(262144,[43237,55...|         Thanks jake|(262144,[64358,74...|\n",
      "|Great place to ge...|(262144,[11018,32...|Thanks for the Ki...|(262144,[64358,74...|\n",
      "|Tasty toasted tur...|(262144,[26819,55...|Thank you! And it...|(262144,[11949,81...|\n",
      "|                Good|(262144,[113432],...|Thank you very mu...|(262144,[24432,31...|\n",
      "|Delicious, excell...|(262144,[30978,32...|Thank you thank y...|(262144,[76764,81...|\n",
      "|I suffer from all...|(262144,[8538,126...|Mariana Thank you...|(262144,[7975,853...|\n",
      "|So beyond thankfu...|(262144,[34343,70...|Hi Kristy, It is ...|(262144,[33808,47...|\n",
      "|I hired Ace Handy...|(262144,[6122,343...|Erica, it has bee...|(262144,[55639,57...|\n",
      "|Recently, our fam...|(262144,[2325,777...|Dear Mike and fam...|(262144,[37908,48...|\n",
      "|My husband went i...|(262144,[6213,116...|       Thank you!!!!|(262144,[81783],[...|\n",
      "|Great customer se...|(262144,[18176,43...|Thank you for the...|(262144,[55875,78...|\n",
      "|Tight parking. Ni...|(262144,[22346,23...|Thank you for com...|(262144,[2701,124...|\n",
      "|Javy has been cut...|(262144,[21823,38...|Thank you very mu...|(262144,[76106,76...|\n",
      "+--------------------+--------------------+--------------------+--------------------+\n",
      "only showing top 20 rows\n"
     ]
    },
    {
     "name": "stderr",
     "output_type": "stream",
     "text": [
      "                                                                                \r"
     ]
    }
   ],
   "source": [
    "# =====================================================\n",
    "# Final Result - Both columns with TF-IDF features\n",
    "# =====================================================\n",
    "df_final.select(\"review_text\", \"review_features\", \"resp_text\", \"resp_features\").show()"
   ]
  },
  {
   "cell_type": "markdown",
   "id": "ea659f3f",
   "metadata": {},
   "source": [
    "## DataFrame Review Metadata"
   ]
  },
  {
   "cell_type": "code",
   "execution_count": 14,
   "id": "39cc12fc",
   "metadata": {},
   "outputs": [
    {
     "name": "stdout",
     "output_type": "stream",
     "text": [
      "+------------+------------+----------+------------+-----------+------------+------------+------------+------------+------------+--------------+-----+----------------+------------+------------+\n",
      "|        MISC|     address|avg_rating|    category|description|     gmap_id|       hours|    latitude|   longitude|        name|num_of_reviews|price|relative_results|       state|         url|\n",
      "+------------+------------+----------+------------+-----------+------------+------------+------------+------------+------------+--------------+-----+----------------+------------+------------+\n",
      "|{[Wheelch...|NTK OUTDO...|       5.0|[Corporat...|       NULL|0x88d9beb...|[[Thursda...|  25.7952041| -80.3660381| NTK OUTDOOR|            35| NULL|    [0x88d9bf...|Open ⋅ Cl...|https://w...|\n",
      "|        NULL|Cruises I...|       5.0|[Cruise a...|       NULL|0x88c2e49...|[[Thursda...|27.832186...|  -82.704805|Cruises I...|             2| NULL|    [0x88c2fd...|Open ⋅ Cl...|https://w...|\n",
      "|        NULL|Seminole ...|       3.6|        NULL|       NULL|0x88c2fb8...|        NULL|  27.8348846| -82.7874195|Seminole ...|             8|   $$|    [0x88c2fc...|        NULL|https://w...|\n",
      "|{[Wheelch...|First Imp...|       4.0|[Barber s...|       NULL|0x88e711b...|[[Thursda...|28.877580...| -81.2812758|First Imp...|             8| NULL|    [0x88e713...|Open ⋅ Cl...|https://w...|\n",
      "|{[Wheelch...|Brian Sha...|       4.2|[Family p...|       NULL|0x8893863...|[[Thursda...|30.159982...| -85.7522767|Brian Sha...|            18| NULL|    [0x88938e...|Open ⋅ Cl...|https://w...|\n",
      "|{[Wheelch...|Cape Seaf...|       5.0|[Restaurant]|       NULL|0x88db414...|        NULL|   26.641377| -81.9405452|Cape Seaf...|             1|   $$|            NULL|        NULL|https://w...|\n",
      "|{[Wheelch...|Fresh Poi...|       5.0|[Buffet r...|       NULL|0x88c2e4e...|[[Thursda...|27.867489...| -82.7029708|Fresh Poi...|             2| NULL|    [0x88c2e5...|Permanent...|https://w...|\n",
      "|        NULL|Falafel G...|       3.5|        NULL|       NULL|0x88dae19...|[[Thursda...|  26.1510991| -81.7956548|Falafel G...|             4| NULL|            NULL|Permanent...|https://w...|\n",
      "|{[Wheelch...|Mail Stat...|       3.4|[Mailing ...|       NULL|0x88c33f1...|[[Thursda...|  27.3896826| -82.5083866|Mail Station|            28| NULL|    [0x88c347...|Open ⋅ Cl...|https://w...|\n",
      "|{[Wheelch...|APC Pedia...|       4.2|[Pediatri...|       NULL|0x88c33c2...|[[Thursda...|27.448301...| -82.5108501|APC Pedia...|            34| NULL|    [0x88c33e...|Open ⋅ Cl...|https://w...|\n",
      "|{[Wheelch...|Infinia A...|       5.0|[Tax prep...|       NULL|0x88d908b...|[[Thursda...|  29.2804103| -81.0714807|Infinia A...|            13| NULL|    [0x88e6dc...|Open ⋅ Cl...|https://w...|\n",
      "|{[Wheelch...|Baker Dis...|       4.3|[Air cond...|       NULL|0x88c33fb...|[[Thursda...|  27.4012687| -82.5323459|Baker Dis...|             8| NULL|    [0x88c33e...|Open ⋅ Cl...|https://w...|\n",
      "|{[Wheelch...|Cutting P...|       4.7|[Hair salon]|       NULL|0x8890951...|[[Thursda...|  30.5319404|-87.24207...|Cutting P...|            65| NULL|    [0x889095...|Open ⋅ Cl...|https://w...|\n",
      "|        NULL|Minute Ke...|       4.8| [Locksmith]|       NULL|0x88d9af7...|[[Thursda...|   25.952579| -80.2436324|  Minute Key|             5| NULL|            NULL|Open ⋅ Cl...|https://w...|\n",
      "|        NULL|Dexter Co...|       3.2|[Laundromat]|       NULL|0x88dd12d...|        NULL|  28.0329017| -81.7331521|Dexter Co...|            13| NULL|            NULL|        NULL|https://w...|\n",
      "|{[Wheelch...|SWFL Prod...|       4.5|[Produce ...|       NULL|0x88db5bd...|[[Thursda...|  26.8484254| -81.9807405|SWFL Produce|            36| NULL|    [0x88c4a9...|Open 24 h...|https://w...|\n",
      "|{[Wheelch...|First Cho...|       5.0|[Physical...|       NULL|0x88db1c7...|        NULL|  26.2738157|  -81.744502|First Cho...|             1| NULL|    [0x88db1c...|        NULL|https://w...|\n",
      "|{[Wheelch...|Eastern T...|       5.0|[Flooring...|       NULL|0x88d9b9f...|[[Thursda...|  25.7947213| -80.3260427|Eastern T...|             3| NULL|            NULL|Open ⋅ Cl...|https://w...|\n",
      "|{NULL, NU...|Oneyda's ...|       4.6|[Bakery, ...|       NULL|0x88dae19...|[[Thursda...|   26.154754|  -81.790528|Oneyda's ...|            19|    $|    [0x88dae1...|Permanent...|https://w...|\n",
      "|{[Wheelch...|Fade Barb...|       4.5|[Barber s...|       NULL|0x88d9a4e...|[[Thursda...|  25.9125189| -80.3308571|Fade Barb...|            98| NULL|    [0x88d9ba...|Open ⋅ Cl...|https://w...|\n",
      "+------------+------------+----------+------------+-----------+------------+------------+------------+------------+------------+--------------+-----+----------------+------------+------------+\n",
      "only showing top 20 rows\n"
     ]
    }
   ],
   "source": [
    "df_metadata.show(truncate=12)"
   ]
  },
  {
   "cell_type": "code",
   "execution_count": 8,
   "id": "74b3ac65",
   "metadata": {},
   "outputs": [],
   "source": [
    "selected_metadata_columns_df = df_metadata.withColumnRenamed(\"name\", \"business_name\").select([\"gmap_id\", \"business_name\", \"address\", \"avg_rating\", \"category\", \"MISC\"])"
   ]
  },
  {
   "cell_type": "markdown",
   "id": "45934d3f",
   "metadata": {},
   "source": [
    "## Final DataFrame"
   ]
  },
  {
   "cell_type": "code",
   "execution_count": 9,
   "id": "e173df67",
   "metadata": {},
   "outputs": [],
   "source": [
    "final_df = df_final.join(selected_metadata_columns_df, on=\"gmap_id\", how=\"left\")"
   ]
  },
  {
   "cell_type": "code",
   "execution_count": 10,
   "id": "793779b9",
   "metadata": {},
   "outputs": [
    {
     "name": "stderr",
     "output_type": "stream",
     "text": [
      "                                                                                \r"
     ]
    },
    {
     "data": {
      "text/plain": [
       "548277"
      ]
     },
     "execution_count": 10,
     "metadata": {},
     "output_type": "execute_result"
    }
   ],
   "source": [
    "final_df.count()"
   ]
  },
  {
   "cell_type": "code",
   "execution_count": 11,
   "id": "6f948c80",
   "metadata": {},
   "outputs": [],
   "source": [
    "# spark.stop()"
   ]
  },
  {
   "cell_type": "code",
   "execution_count": null,
   "id": "b5b17b34",
   "metadata": {},
   "outputs": [],
   "source": []
  }
 ],
 "metadata": {
  "kernelspec": {
   "display_name": ".venv",
   "language": "python",
   "name": "python3"
  },
  "language_info": {
   "codemirror_mode": {
    "name": "ipython",
    "version": 3
   },
   "file_extension": ".py",
   "mimetype": "text/x-python",
   "name": "python",
   "nbconvert_exporter": "python",
   "pygments_lexer": "ipython3",
   "version": "3.11.13"
  }
 },
 "nbformat": 4,
 "nbformat_minor": 5
}
