{
 "cells": [
  {
   "cell_type": "code",
   "execution_count": null,
   "id": "76ceeedb",
   "metadata": {},
   "outputs": [
    {
     "name": "stderr",
     "output_type": "stream",
     "text": [
      "WARNING: Using incubator modules: jdk.incubator.vector\n",
      "Using Spark's default log4j profile: org/apache/spark/log4j2-defaults.properties\n",
      "25/08/25 21:20:49 WARN Utils: Your hostname, Asyrafs-MacBook-Air.local, resolves to a loopback address: 127.0.0.1; using 192.168.18.78 instead (on interface en0)\n",
      "25/08/25 21:20:49 WARN Utils: Set SPARK_LOCAL_IP if you need to bind to another address\n",
      "Using Spark's default log4j profile: org/apache/spark/log4j2-defaults.properties\n",
      "Setting default log level to \"WARN\".\n",
      "To adjust logging level use sc.setLogLevel(newLevel). For SparkR, use setLogLevel(newLevel).\n",
      "25/08/25 21:21:01 WARN NativeCodeLoader: Unable to load native-hadoop library for your platform... using builtin-java classes where applicable\n",
      "                                                                                \r"
     ]
    }
   ],
   "source": [
    "from pyspark.sql import SparkSession\n",
    "\n",
    "\n",
    "spark = SparkSession.builder \\\n",
    "        .appName(\"Process Large JSON\") \\\n",
    "        .master(\"local[*]\") \\\n",
    "        .getOrCreate()\n",
    "\n",
    "df = spark.read.json(\"review-Alabama.json\")\n"
   ]
  },
  {
   "cell_type": "code",
   "execution_count": 2,
   "id": "dd7add51",
   "metadata": {},
   "outputs": [
    {
     "name": "stdout",
     "output_type": "stream",
     "text": [
      "root\n",
      " |-- gmap_id: string (nullable = true)\n",
      " |-- name: string (nullable = true)\n",
      " |-- pics: array (nullable = true)\n",
      " |    |-- element: struct (containsNull = true)\n",
      " |    |    |-- url: array (nullable = true)\n",
      " |    |    |    |-- element: string (containsNull = true)\n",
      " |-- rating: long (nullable = true)\n",
      " |-- resp: struct (nullable = true)\n",
      " |    |-- text: string (nullable = true)\n",
      " |    |-- time: long (nullable = true)\n",
      " |-- text: string (nullable = true)\n",
      " |-- time: long (nullable = true)\n",
      " |-- user_id: string (nullable = true)\n",
      "\n"
     ]
    }
   ],
   "source": [
    "df.printSchema()"
   ]
  },
  {
   "cell_type": "code",
   "execution_count": 3,
   "id": "33ce7dfb",
   "metadata": {},
   "outputs": [
    {
     "name": "stdout",
     "output_type": "stream",
     "text": [
      "+--------------------+--------------------+----+------+--------------------+--------------------+-------------+--------------------+\n",
      "|             gmap_id|                name|pics|rating|                resp|                text|         time|             user_id|\n",
      "+--------------------+--------------------+----+------+--------------------+--------------------+-------------+--------------------+\n",
      "|0x8862134e67ff5c8...|         Hadley Coan|NULL|     5|                NULL|Love this little ...|1626307876654|10337899798931755...|\n",
      "|0x8862134e67ff5c8...|       Macey Johnson|NULL|     5|                NULL|The absolute BEST...|1626309762833|11259712068689102...|\n",
      "|0x8862134e67ff5c8...|      Kelby Copeland|NULL|     5|                NULL|The absolute BEST...|1626301530535|10027036692530347...|\n",
      "|0x8862134e67ff5c8...|         Wynn Thomas|NULL|     5|                NULL|The best children...|1626300613475|10447383783581786...|\n",
      "|0x8862134e67ff5c8...|           Seth Meek|NULL|     1|{Hi Seth, my name...|Terrible service....|1624983585963|11443564225206469...|\n",
      "|0x8862134e67ff5c8...|       Kanisha Mixon|NULL|     5|                NULL|Very Personable s...|1597168272670|11404382423090781...|\n",
      "|0x8862134e67ff5c8...|     Jessica Lambert|NULL|     5|                NULL|We had the absolu...|1489881559752|10142921030849737...|\n",
      "|0x8862134e67ff5c8...|      Brandie Hodges|NULL|     5|                NULL|Best clothing intown|1609899039594|11600900842040707...|\n",
      "|0x8862134e67ff5c8...|          Sara Alavi|NULL|     5|{Aww!!..Thank you...|This boutique has...|1442548930767|10716919021983013...|\n",
      "|0x8862134e67ff5c8...|     Cleophus Adkins|NULL|     5|                NULL|                NULL|1529184622477|10089216986253198...|\n",
      "|0x8862134e67ff5c8...|        tina cothren|NULL|     5|                NULL|                NULL|1458919530049|10953543136273489...|\n",
      "|0x8862134e67ff5c8...|         Sharon King|NULL|     4|                NULL|                NULL|1547235290843|10623992817803460...|\n",
      "|0x8862134e67ff5c8...|     Veronica Pierce|NULL|     5|                NULL|                NULL|1517709403534|10497005611580174...|\n",
      "|0x8862134e67ff5c8...|        Julie Guerin|NULL|     3|                NULL|                NULL|1500522299447|10950576741155514...|\n",
      "|0x8862134e67ff5c8...|     Angela Pridmore|NULL|     5|                NULL|                NULL|1582904629628|11360992568459777...|\n",
      "|0x8862134e67ff5c8...|Anna-Katherine Turis|NULL|     5|                NULL|                NULL|1626312629403|10385014600539554...|\n",
      "|0x8862134e67ff5c8...|Whitney Waldon Co...|NULL|     5|                NULL|                NULL|1535245718492|11058747170052510...|\n",
      "|0x886268e8fdc4fd2...|      Janna Bennetts|NULL|     1|                NULL|Not even upset ab...|1623504220546|11622874934228138...|\n",
      "|0x886268e8fdc4fd2...|         Emily Miles|NULL|     1|                NULL|Not friendly at a...|1611850938780|11204263697263024...|\n",
      "|0x886268e8fdc4fd2...|         Ashley Cole|NULL|     5|                NULL|Awesome selection...|1603654357819|11245767568017503...|\n",
      "+--------------------+--------------------+----+------+--------------------+--------------------+-------------+--------------------+\n",
      "only showing top 20 rows\n"
     ]
    }
   ],
   "source": [
    "df.show()"
   ]
  },
  {
   "cell_type": "code",
   "execution_count": 4,
   "id": "ad24389f",
   "metadata": {},
   "outputs": [
    {
     "name": "stderr",
     "output_type": "stream",
     "text": [
      "                                                                                \r"
     ]
    }
   ],
   "source": [
    "df1 = spark.read.json(\"review-Rhode_Island.json\")"
   ]
  },
  {
   "cell_type": "code",
   "execution_count": 5,
   "id": "f17fa279",
   "metadata": {},
   "outputs": [
    {
     "name": "stdout",
     "output_type": "stream",
     "text": [
      "+--------------------+--------------------+--------------------+------+--------------------+--------------------+-------------+--------------------+\n",
      "|             gmap_id|                name|                pics|rating|                resp|                text|         time|             user_id|\n",
      "+--------------------+--------------------+--------------------+------+--------------------+--------------------+-------------+--------------------+\n",
      "|0x89e44fe1c2a2a2c...|  Majestically child|                NULL|     5|{Thanks for comin...|Always wanted to ...|1600000495003|10223813496350060...|\n",
      "|0x89e44fe1c2a2a2c...|    Kathryn Bartizek|[{[https://lh5.go...|     5|{Very glad to hea...|Mofongo, spanish ...|1602191331373|10899007040771662...|\n",
      "|0x89e44fe1c2a2a2c...|         Rubia Bella|                NULL|     5|{Hope to see you ...|Very good! Will e...|1601590520320|10790690695529072...|\n",
      "|0x89e44fe1c2a2a2c...|     angel olivencia|                NULL|     4|                NULL|Not bad place... ...|1602983693555|11673500991966555...|\n",
      "|0x89e44fe1c2a2a2c...|             Rnc Rnc|                NULL|     5|                NULL|Really nice place...|1596764230864|10776353396191767...|\n",
      "|0x89e44fe1c2a2a2c...|      Rafael Cordero|                NULL|     5|{Thank for the fe...|Fresh and delicio...|1596887973165|11414080634620968...|\n",
      "|0x89e44fe1c2a2a2c...|     Daniel Reggiani|                NULL|     5|                NULL|    Really good food|1603064156784|10574689138233250...|\n",
      "|0x89e44fe1c2a2a2c...|Joseph “Joe” Solomon|                NULL|     5|{Thanks for the f...|Great people and ...|1600710962505|11672822770743798...|\n",
      "|0x89e44fe1c2a2a2c...|                 R P|                NULL|     5|                NULL|(Translated by Go...|1596851893755|11472377283008370...|\n",
      "|0x89e44fe1c2a2a2c...|        Leo Gonzalez|                NULL|     5|{(Translated by G...|(Translated by Go...|1600483928838|10951719607082888...|\n",
      "|0x89e44fe1c2a2a2c...|       Ledivit Disla|                NULL|     5|                NULL|(Translated by Go...|1601514165715|11297596342846671...|\n",
      "|0x89e44fe1c2a2a2c...|gladys morela lun...|                NULL|     5|                NULL|(Translated by Go...|1598768572509|10924081642099752...|\n",
      "|0x89e44fe1c2a2a2c...|      Nelson Polanco|                NULL|     5|                NULL|(Translated by Go...|1599910709327|10050691175294077...|\n",
      "|0x89e44fe1c2a2a2c...|Claudio Yasel Pol...|                NULL|     5|{(Translated by G...|(Translated by Go...|1596816286007|10897293519540279...|\n",
      "|0x89e44fe1c2a2a2c...|      Julio Robinson|                NULL|     5|{🙏🏼, 1602371865...|                NULL|1601408236165|11130632299454403...|\n",
      "|0x89e44fe1c2a2a2c...|   Stephanie Gazeley|                NULL|     5|                NULL|                NULL|1599243591108|11724344485646971...|\n",
      "|0x89e44fe1c2a2a2c...|        Rafael Morel|                NULL|     4|                NULL|                NULL|1604968192634|11458227608218260...|\n",
      "|0x89e44fe1c2a2a2c...|     Laura Rodriguez|                NULL|     5|                NULL|                NULL|1598905106401|11068006495580825...|\n",
      "|0x89e447136ec8abd...|               Style|                NULL|     5|                NULL|Your Search is Ov...|1617226414864|10032622734652367...|\n",
      "|0x89e447136ec8abd...|       Jack Kebarian|                NULL|     5|                NULL|I've been with Ze...|1605019009474|10075161469774553...|\n",
      "+--------------------+--------------------+--------------------+------+--------------------+--------------------+-------------+--------------------+\n",
      "only showing top 20 rows\n"
     ]
    }
   ],
   "source": [
    "df1.show()"
   ]
  },
  {
   "cell_type": "code",
   "execution_count": 6,
   "id": "55b17deb",
   "metadata": {},
   "outputs": [
    {
     "name": "stderr",
     "output_type": "stream",
     "text": [
      "                                                                                \r"
     ]
    }
   ],
   "source": [
    "df2 = spark.read.json(\"review-California.json\")"
   ]
  },
  {
   "cell_type": "code",
   "execution_count": 7,
   "id": "ec6e4bf1",
   "metadata": {},
   "outputs": [
    {
     "name": "stdout",
     "output_type": "stream",
     "text": [
      "+--------------------+-----------------+----+------+----+---------------------------------+-------------+--------------------+\n",
      "|             gmap_id|             name|pics|rating|resp|                             text|         time|             user_id|\n",
      "+--------------------+-----------------+----+------+----+---------------------------------+-------------+--------------------+\n",
      "|0x80c2c98c0e3c16f...|    Michael Rizal|NULL|     5|NULL|             Great company. Am...|1599164133778|11316555113047622...|\n",
      "|0x80c2c98c0e3c16f...|Faranak Rafizadeh|NULL|     5|NULL|             Nice people\\nhelpful|1618261672851|10122637137063761...|\n",
      "|0x80c2c98c0e3c16f...|     Javier Perez|NULL|     5|NULL|                             NULL|1524515066787|11116770366698148...|\n",
      "|0x80c2c98c0e3c16f...|          Luis P.|NULL|     5|NULL|                             NULL|1499739139293|11623088205734402...|\n",
      "|0x80c2c98c0e3c16f...|   His Mama Cakez|NULL|     3|NULL|                             NULL|1621410940638|10418165983558523...|\n",
      "|0x80c2c98c0e3c16f...|          Song Ro|NULL|     4|NULL|                             NULL|1605365557673|10899115226265578...|\n",
      "|0x80c2c778e3b73d3...|        jane moon|NULL|     5|NULL|             One of the best K...|1623536126668|10788975049533969...|\n",
      "|0x80c2c778e3b73d3...|          Song Ro|NULL|     5|NULL|             Love there korean...|1609909927056|10899115226265578...|\n",
      "|0x80c2c778e3b73d3...|      Rafa Robles|NULL|     5|NULL|                   Good very good|1612849648663|11129032221979621...|\n",
      "|0x80c2c778e3b73d3...|        David Han|NULL|     4|NULL|             They make Korean ...|1583643882296|11264035744961195...|\n",
      "|0x80c2c778e3b73d3...|      Anthony Kim|NULL|     5|NULL|             Short ribs are ve...|1551938216355|11744034972382365...|\n",
      "|0x80c2c778e3b73d3...|    Mario Marzouk|NULL|     5|NULL|             Great food and pr...|1494910901933|10058077083612353...|\n",
      "|0x80c2c778e3b73d3...|      Ana Salazar|NULL|     5|NULL|             This food is deli...|1547799582640|10018573266445490...|\n",
      "|0x80c2c778e3b73d3...|           노신의|NULL|     4|NULL|항상 친절하고 넉넉하신 사장님,...|1628033799060|10762939494697634...|\n",
      "|0x80c2c778e3b73d3...|      Youngho Yoo|NULL|     4|NULL|                             NULL|1616990033253|11778210747256603...|\n",
      "|0x80c2c778e3b73d3...|    Seungwon Park|NULL|     1|NULL|                             NULL|1624202370703|10142162436814895...|\n",
      "|0x80c2c778e3b73d3...|     Jiyoung Park|NULL|     1|NULL|                             NULL|1511633984314|10575661282365497...|\n",
      "|0x80c2c778e3b73d3...|         Jung Lee|NULL|     5|NULL|                             NULL|1601414899163|10755987558621829...|\n",
      "|0x80c2c778e3b73d3...|              Y.M|NULL|     5|NULL|                             NULL|1528611798847|11742987356728863...|\n",
      "|0x80c2c778e3b73d3...|       kimchi lee|NULL|     5|NULL|                             NULL|1492967841515|11112510807576507...|\n",
      "+--------------------+-----------------+----+------+----+---------------------------------+-------------+--------------------+\n",
      "only showing top 20 rows\n"
     ]
    }
   ],
   "source": [
    "df2.show()"
   ]
  },
  {
   "cell_type": "code",
   "execution_count": 14,
   "id": "6f948c80",
   "metadata": {},
   "outputs": [],
   "source": [
    "spark.stop()"
   ]
  },
  {
   "cell_type": "code",
   "execution_count": null,
   "id": "f2c1dd14",
   "metadata": {},
   "outputs": [],
   "source": []
  }
 ],
 "metadata": {
  "kernelspec": {
   "display_name": ".hackathon",
   "language": "python",
   "name": "python3"
  },
  "language_info": {
   "codemirror_mode": {
    "name": "ipython",
    "version": 3
   },
   "file_extension": ".py",
   "mimetype": "text/x-python",
   "name": "python",
   "nbconvert_exporter": "python",
   "pygments_lexer": "ipython3",
   "version": "3.11.13"
  }
 },
 "nbformat": 4,
 "nbformat_minor": 5
}
